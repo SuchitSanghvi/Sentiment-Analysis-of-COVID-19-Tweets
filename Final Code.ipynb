{
  "nbformat": 4,
  "nbformat_minor": 0,
  "metadata": {
    "colab": {
      "name": "Code Final report",
      "provenance": [],
      "collapsed_sections": [
        "U7gkPvDt5aOK",
        "XFe1qqg_5ifw",
        "t6-gKEs55wUh",
        "GK91_USM8a5Y",
        "SZNN2nxaAPZV",
        "leld-C4CCYb6"
      ],
      "toc_visible": true
    },
    "kernelspec": {
      "display_name": "Python 3",
      "name": "python3"
    }
  },
  "cells": [
    {
      "cell_type": "markdown",
      "metadata": {
        "id": "U7gkPvDt5aOK"
      },
      "source": [
        "## Load Packages"
      ]
    },
    {
      "cell_type": "code",
      "metadata": {
        "id": "WeR_nVZL5V26",
        "outputId": "fe196078-f633-4e3f-9be4-266eb0a5a94c",
        "colab": {
          "base_uri": "https://localhost:8080/",
          "height": 574
        }
      },
      "source": [
        "from IPython.core.display import display, HTML\n",
        "from IPython.display import Image\n",
        "import numpy as np\n",
        "import pandas as pd\n",
        "from sklearn.feature_extraction.text import CountVectorizer, TfidfVectorizer\n",
        "from sklearn.preprocessing import normalize\n",
        "from sklearn.feature_extraction.text import CountVectorizer\n",
        "\n",
        "# INSTALLATION\n",
        "!python -m spacy download es_core_news_sm\n",
        "import spacy\n",
        "\n",
        "from configparser import ConfigParser, ExtendedInterpolation\n",
        "from collections import defaultdict\n",
        "from itertools import combinations, product\n",
        "import warnings\n",
        "warnings.filterwarnings('ignore')\n",
        "\n",
        "import gensim\n",
        "from gensim import corpora, models, similarities\n",
        "from gensim.corpora import Dictionary\n",
        "from gensim.matutils import kullback_leibler, hellinger\n",
        "from gensim.models import ldamodel\n",
        "from gensim.similarities import MatrixSimilarity, SparseMatrixSimilarity, Similarity\n",
        "from gensim.summarization.bm25 import get_bm25_weights\n",
        "from gensim.utils import simple_preprocess\n",
        "from IPython.core.display import display, HTML\n",
        "from IPython.display import Image\n",
        "from IPython.lib.display import YouTubeVideo\n",
        "import numpy as np\n",
        "import pandas as pd\n",
        "import seaborn as sns\n",
        "from sklearn.cluster import KMeans, MiniBatchKMeans\n",
        "from sklearn.decomposition import TruncatedSVD\n",
        "from sklearn.feature_extraction.text import CountVectorizer, TfidfVectorizer\n",
        "from spacy.matcher import Matcher\n",
        "from sklearn.metrics.pairwise import pairwise_distances\n",
        "from sklearn.neighbors import NearestNeighbors\n",
        "import matplotlib.pyplot as plt\n",
        "import spacy\n",
        "\n",
        "# increase display of columns in pandas\n",
        "pd.set_option('display.max_colwidth', 200)"
      ],
      "execution_count": null,
      "outputs": [
        {
          "output_type": "stream",
          "text": [
            "Collecting es_core_news_sm==2.2.5\n",
            "\u001b[?25l  Downloading https://github.com/explosion/spacy-models/releases/download/es_core_news_sm-2.2.5/es_core_news_sm-2.2.5.tar.gz (16.2MB)\n",
            "\u001b[K     |████████████████████████████████| 16.2MB 3.7MB/s \n",
            "\u001b[?25hRequirement already satisfied: spacy>=2.2.2 in /usr/local/lib/python3.6/dist-packages (from es_core_news_sm==2.2.5) (2.2.4)\n",
            "Requirement already satisfied: tqdm<5.0.0,>=4.38.0 in /usr/local/lib/python3.6/dist-packages (from spacy>=2.2.2->es_core_news_sm==2.2.5) (4.41.1)\n",
            "Requirement already satisfied: blis<0.5.0,>=0.4.0 in /usr/local/lib/python3.6/dist-packages (from spacy>=2.2.2->es_core_news_sm==2.2.5) (0.4.1)\n",
            "Requirement already satisfied: plac<1.2.0,>=0.9.6 in /usr/local/lib/python3.6/dist-packages (from spacy>=2.2.2->es_core_news_sm==2.2.5) (1.1.3)\n",
            "Requirement already satisfied: requests<3.0.0,>=2.13.0 in /usr/local/lib/python3.6/dist-packages (from spacy>=2.2.2->es_core_news_sm==2.2.5) (2.23.0)\n",
            "Requirement already satisfied: murmurhash<1.1.0,>=0.28.0 in /usr/local/lib/python3.6/dist-packages (from spacy>=2.2.2->es_core_news_sm==2.2.5) (1.0.2)\n",
            "Requirement already satisfied: catalogue<1.1.0,>=0.0.7 in /usr/local/lib/python3.6/dist-packages (from spacy>=2.2.2->es_core_news_sm==2.2.5) (1.0.0)\n",
            "Requirement already satisfied: setuptools in /usr/local/lib/python3.6/dist-packages (from spacy>=2.2.2->es_core_news_sm==2.2.5) (49.6.0)\n",
            "Requirement already satisfied: preshed<3.1.0,>=3.0.2 in /usr/local/lib/python3.6/dist-packages (from spacy>=2.2.2->es_core_news_sm==2.2.5) (3.0.2)\n",
            "Requirement already satisfied: numpy>=1.15.0 in /usr/local/lib/python3.6/dist-packages (from spacy>=2.2.2->es_core_news_sm==2.2.5) (1.18.5)\n",
            "Requirement already satisfied: cymem<2.1.0,>=2.0.2 in /usr/local/lib/python3.6/dist-packages (from spacy>=2.2.2->es_core_news_sm==2.2.5) (2.0.3)\n",
            "Requirement already satisfied: srsly<1.1.0,>=1.0.2 in /usr/local/lib/python3.6/dist-packages (from spacy>=2.2.2->es_core_news_sm==2.2.5) (1.0.2)\n",
            "Requirement already satisfied: wasabi<1.1.0,>=0.4.0 in /usr/local/lib/python3.6/dist-packages (from spacy>=2.2.2->es_core_news_sm==2.2.5) (0.7.1)\n",
            "Requirement already satisfied: thinc==7.4.0 in /usr/local/lib/python3.6/dist-packages (from spacy>=2.2.2->es_core_news_sm==2.2.5) (7.4.0)\n",
            "Requirement already satisfied: urllib3!=1.25.0,!=1.25.1,<1.26,>=1.21.1 in /usr/local/lib/python3.6/dist-packages (from requests<3.0.0,>=2.13.0->spacy>=2.2.2->es_core_news_sm==2.2.5) (1.24.3)\n",
            "Requirement already satisfied: certifi>=2017.4.17 in /usr/local/lib/python3.6/dist-packages (from requests<3.0.0,>=2.13.0->spacy>=2.2.2->es_core_news_sm==2.2.5) (2020.6.20)\n",
            "Requirement already satisfied: chardet<4,>=3.0.2 in /usr/local/lib/python3.6/dist-packages (from requests<3.0.0,>=2.13.0->spacy>=2.2.2->es_core_news_sm==2.2.5) (3.0.4)\n",
            "Requirement already satisfied: idna<3,>=2.5 in /usr/local/lib/python3.6/dist-packages (from requests<3.0.0,>=2.13.0->spacy>=2.2.2->es_core_news_sm==2.2.5) (2.10)\n",
            "Requirement already satisfied: importlib-metadata>=0.20; python_version < \"3.8\" in /usr/local/lib/python3.6/dist-packages (from catalogue<1.1.0,>=0.0.7->spacy>=2.2.2->es_core_news_sm==2.2.5) (1.7.0)\n",
            "Requirement already satisfied: zipp>=0.5 in /usr/local/lib/python3.6/dist-packages (from importlib-metadata>=0.20; python_version < \"3.8\"->catalogue<1.1.0,>=0.0.7->spacy>=2.2.2->es_core_news_sm==2.2.5) (3.1.0)\n",
            "Building wheels for collected packages: es-core-news-sm\n",
            "  Building wheel for es-core-news-sm (setup.py) ... \u001b[?25l\u001b[?25hdone\n",
            "  Created wheel for es-core-news-sm: filename=es_core_news_sm-2.2.5-cp36-none-any.whl size=16172934 sha256=52686618317d7e4d67b4cf565506a08a9655db793385baf57e47d9030ba7e8a8\n",
            "  Stored in directory: /tmp/pip-ephem-wheel-cache-irry2awj/wheels/05/4f/66/9d0c806f86de08e8645d67996798c49e1512f9c3a250d74242\n",
            "Successfully built es-core-news-sm\n",
            "Installing collected packages: es-core-news-sm\n",
            "Successfully installed es-core-news-sm-2.2.5\n",
            "\u001b[38;5;2m✔ Download and installation successful\u001b[0m\n",
            "You can now load the model via spacy.load('es_core_news_sm')\n"
          ],
          "name": "stdout"
        }
      ]
    },
    {
      "cell_type": "markdown",
      "metadata": {
        "id": "XFe1qqg_5ifw"
      },
      "source": [
        "##Upload dataset\n"
      ]
    },
    {
      "cell_type": "code",
      "metadata": {
        "id": "D_IchIG65tHh"
      },
      "source": [
        "from google.colab import drive\n",
        "drive.mount('/content/drive')"
      ],
      "execution_count": null,
      "outputs": []
    },
    {
      "cell_type": "code",
      "metadata": {
        "id": "cgBReV3p5sDZ"
      },
      "source": [
        "pd.set_option('display.max_colwidth', 200)\n",
        "df = pd.read_csv(\"/content/drive/My Drive/clusters.csv\")\n",
        "df"
      ],
      "execution_count": null,
      "outputs": []
    },
    {
      "cell_type": "markdown",
      "metadata": {
        "id": "t6-gKEs55wUh"
      },
      "source": [
        "## Data cleaning"
      ]
    },
    {
      "cell_type": "markdown",
      "metadata": {
        "id": "sZz0JVbw5zqh"
      },
      "source": [
        "Clean location data"
      ]
    },
    {
      "cell_type": "code",
      "metadata": {
        "id": "rllV3OH-53vh"
      },
      "source": [
        "#drop locations which have numbers instead of states\n",
        "df=df[~df['Location'].str.contains('\\d')]"
      ],
      "execution_count": null,
      "outputs": []
    },
    {
      "cell_type": "code",
      "metadata": {
        "id": "_2liRBZG6jiP"
      },
      "source": [
        "#Change Location data to only show state abbreviations\n",
        "\n",
        "df.loc[df.Location == 'alabama', 'Location'] = 'al'\n",
        "df.loc[df.Location == 'alaska', 'Location'] = 'ak'\n",
        "df.loc[df.Location == 'arizona', 'Location'] = 'az'\n",
        "df.loc[df.Location == 'arkansas', 'Location'] = 'ar'\n",
        "df.loc[df.Location == 'california', 'Location'] = 'ca'\n",
        "df.loc[df.Location == 'colorado', 'Location'] = 'co'\n",
        "df.loc[df.Location == 'connecticut', 'Location'] = 'ct'\n",
        "df.loc[df.Location == 'delaware', 'Location'] = 'de'\n",
        "df.loc[df.Location == 'florida', 'Location'] = 'fl'\n",
        "df.loc[df.Location == 'georgia', 'Location'] = 'ga'\n",
        "df.loc[df.Location == 'hawaii', 'Location'] = 'hi'\n",
        "df.loc[df.Location == 'idaho', 'Location'] = 'id'\n",
        "df.loc[df.Location == 'illinois', 'Location'] = 'il'\n",
        "df.loc[df.Location == 'indiana', 'Location'] = 'in'\n",
        "df.loc[df.Location == 'iowa', 'Location'] = 'ia'\n",
        "df.loc[df.Location == 'kansas', 'Location'] = 'ks'\n",
        "df.loc[df.Location == 'kentucky', 'Location'] = 'ky'\n",
        "df.loc[df.Location == 'louisiana', 'Location'] = 'la'\n",
        "df.loc[df.Location == 'maine', 'Location'] = 'me'\n",
        "df.loc[df.Location == 'maryland', 'Location'] = 'md'\n",
        "df.loc[df.Location == 'massachusetts', 'Location'] = 'ma'\n",
        "df.loc[df.Location == 'michigan', 'Location'] = 'mi'\n",
        "df.loc[df.Location == 'minnesota', 'Location'] = 'mn'\n",
        "df.loc[df.Location == 'mississippi', 'Location'] = 'ms'\n",
        "df.loc[df.Location == 'missouri', 'Location'] = 'mo'\n",
        "df.loc[df.Location == 'montana', 'Location'] = 'mt'\n",
        "df.loc[df.Location == 'nebraska', 'Location'] = 'ne'\n",
        "df.loc[df.Location == 'nevada', 'Location'] = 'nv'\n",
        "df.loc[df.Location == 'new hampshire', 'Location'] = 'nh'\n",
        "df.loc[df.Location == 'new jersey', 'Location'] = 'nj'\n",
        "df.loc[df.Location == 'new mexico', 'Location'] = 'nm'\n",
        "df.loc[df.Location == 'new york', 'Location'] = 'ny'\n",
        "df.loc[df.Location == 'north carolina', 'Location'] = 'nc'\n",
        "df.loc[df.Location == 'north dakota', 'Location'] = 'nd'\n",
        "df.loc[df.Location == 'ohio', 'Location'] = 'oh'\n",
        "df.loc[df.Location == 'oklahoma', 'Location'] = 'ok'\n",
        "df.loc[df.Location == 'oregon', 'Location'] = 'or'\n",
        "df.loc[df.Location == 'pennsylvania', 'Location'] = 'pa'\n",
        "df.loc[df.Location == 'rhode island', 'Location'] = 'ri'\n",
        "df.loc[df.Location == 'south carolina', 'Location'] = 'sc'\n",
        "df.loc[df.Location == 'south dakota', 'Location'] = 'sd'\n",
        "df.loc[df.Location == 'tennessee', 'Location'] = 'tn'\n",
        "df.loc[df.Location == 'texas', 'Location'] = 'tx'\n",
        "df.loc[df.Location == 'utah', 'Location'] = 'ut'\n",
        "df.loc[df.Location == 'vermont', 'Location'] = 'vt'\n",
        "df.loc[df.Location == 'virginia', 'Location'] = 'vi'\n",
        "df.loc[df.Location == 'washington', 'Location'] = 'wa'\n",
        "df.loc[df.Location == 'west virginia', 'Location'] = 'wv'\n",
        "df.loc[df.Location == 'wisconsin', 'Location'] = 'wi'\n",
        "df.loc[df.Location == 'wyoming', 'Location'] = 'wy'\n",
        "df.loc[df.Location == 'palau', 'Location'] = 'pw'\n",
        "df.loc[df.Location == 'guam', 'Location'] = 'gu'\n",
        "df.loc[df.Location == 'american samoa', 'Location'] = 'as'"
      ],
      "execution_count": null,
      "outputs": []
    },
    {
      "cell_type": "markdown",
      "metadata": {
        "id": "RoU4bwDk6w45"
      },
      "source": [
        "Delete duplicate tweets and retweets"
      ]
    },
    {
      "cell_type": "code",
      "metadata": {
        "id": "wSbfOAfy62Jx"
      },
      "source": [
        "df = tweets.drop_duplicates(subset=['Processed_Tweet'])"
      ],
      "execution_count": null,
      "outputs": []
    },
    {
      "cell_type": "markdown",
      "metadata": {
        "id": "GK91_USM8a5Y"
      },
      "source": [
        "## Sentiment Analysis"
      ]
    },
    {
      "cell_type": "code",
      "metadata": {
        "id": "MJqdoww58rBf"
      },
      "source": [
        "#load cleaned dataset\n",
        "df=pd.read_csv(#insert dataset path)"
      ],
      "execution_count": null,
      "outputs": []
    },
    {
      "cell_type": "code",
      "metadata": {
        "id": "JJMlPCO47EWh"
      },
      "source": [
        "# create a function to pass our sentences\n",
        "def sentiment_analyzer_scores(sentence):\n",
        "    score = analyzer.polarity_scores(sentence)\n",
        "    return score"
      ],
      "execution_count": null,
      "outputs": []
    },
    {
      "cell_type": "code",
      "metadata": {
        "id": "5qEAs6OWgWFg",
        "outputId": "98d9e79c-7cd0-47bc-cf46-6f4ec3d1da3f",
        "colab": {
          "base_uri": "https://localhost:8080/",
          "height": 301
        }
      },
      "source": [
        "df['score'] = df['Processed_Tweet'].apply(lambda review: sentiment_analyzer_scores(review)['compound'])\n",
        "df.head()"
      ],
      "execution_count": null,
      "outputs": [
        {
          "output_type": "stream",
          "text": [
            "/usr/local/lib/python3.6/dist-packages/ipykernel_launcher.py:1: SettingWithCopyWarning: \n",
            "A value is trying to be set on a copy of a slice from a DataFrame.\n",
            "Try using .loc[row_indexer,col_indexer] = value instead\n",
            "\n",
            "See the caveats in the documentation: https://pandas.pydata.org/pandas-docs/stable/user_guide/indexing.html#returning-a-view-versus-a-copy\n",
            "  \"\"\"Entry point for launching an IPython kernel.\n"
          ],
          "name": "stderr"
        },
        {
          "output_type": "execute_result",
          "data": {
            "text/html": [
              "<div>\n",
              "<style scoped>\n",
              "    .dataframe tbody tr th:only-of-type {\n",
              "        vertical-align: middle;\n",
              "    }\n",
              "\n",
              "    .dataframe tbody tr th {\n",
              "        vertical-align: top;\n",
              "    }\n",
              "\n",
              "    .dataframe thead th {\n",
              "        text-align: right;\n",
              "    }\n",
              "</style>\n",
              "<table border=\"1\" class=\"dataframe\">\n",
              "  <thead>\n",
              "    <tr style=\"text-align: right;\">\n",
              "      <th></th>\n",
              "      <th>ID</th>\n",
              "      <th>Location</th>\n",
              "      <th>Processed_Tweet</th>\n",
              "      <th>score</th>\n",
              "    </tr>\n",
              "  </thead>\n",
              "  <tbody>\n",
              "    <tr>\n",
              "      <th>0</th>\n",
              "      <td>7.968997e+17</td>\n",
              "      <td>tx</td>\n",
              "      <td>bet tyrannical dem governor end covid stay hom...</td>\n",
              "      <td>0.0000</td>\n",
              "    </tr>\n",
              "    <tr>\n",
              "      <th>1</th>\n",
              "      <td>1.143848e+09</td>\n",
              "      <td>nc</td>\n",
              "      <td>accord ons , 40,000 uk die coronavirus . doubl...</td>\n",
              "      <td>-0.5994</td>\n",
              "    </tr>\n",
              "    <tr>\n",
              "      <th>2</th>\n",
              "      <td>9.555381e+17</td>\n",
              "      <td>nc</td>\n",
              "      <td>try .. editorial leftist editorial board convi...</td>\n",
              "      <td>0.0258</td>\n",
              "    </tr>\n",
              "    <tr>\n",
              "      <th>3</th>\n",
              "      <td>3.707619e+07</td>\n",
              "      <td>tn</td>\n",
              "      <td>careful . crazy nancy total disaster , usa com...</td>\n",
              "      <td>-0.7569</td>\n",
              "    </tr>\n",
              "    <tr>\n",
              "      <th>4</th>\n",
              "      <td>2.742637e+08</td>\n",
              "      <td>ny</td>\n",
              "      <td>fuck mitch , putin puppet !   make donation   ...</td>\n",
              "      <td>-0.4184</td>\n",
              "    </tr>\n",
              "  </tbody>\n",
              "</table>\n",
              "</div>"
            ],
            "text/plain": [
              "             ID  ...   score\n",
              "0  7.968997e+17  ...  0.0000\n",
              "1  1.143848e+09  ... -0.5994\n",
              "2  9.555381e+17  ...  0.0258\n",
              "3  3.707619e+07  ... -0.7569\n",
              "4  2.742637e+08  ... -0.4184\n",
              "\n",
              "[5 rows x 4 columns]"
            ]
          },
          "metadata": {
            "tags": []
          },
          "execution_count": 12
        }
      ]
    },
    {
      "cell_type": "code",
      "metadata": {
        "id": "Q6GYhd8H9wGP"
      },
      "source": [
        "#classify in positive, neutral or negative tweets\n",
        "df['sentiment'] = df['score'].apply(lambda c: 1 if c >=0.05 else (0 if c > -0.05 else -1))\n",
        "\n",
        "df.head(20)"
      ],
      "execution_count": null,
      "outputs": []
    },
    {
      "cell_type": "code",
      "metadata": {
        "id": "o_zEMac2o7au",
        "outputId": "923199dd-281f-4f68-bf07-1d2a11c18454",
        "colab": {
          "base_uri": "https://localhost:8080/",
          "height": 195
        }
      },
      "source": [
        "# get the overall opinion of each person\n",
        "personalOpinion = new_data_set.groupby(['ID','Location'],as_index=False).mean()\n",
        "personalOpinion.head()"
      ],
      "execution_count": null,
      "outputs": [
        {
          "output_type": "execute_result",
          "data": {
            "text/html": [
              "<div>\n",
              "<style scoped>\n",
              "    .dataframe tbody tr th:only-of-type {\n",
              "        vertical-align: middle;\n",
              "    }\n",
              "\n",
              "    .dataframe tbody tr th {\n",
              "        vertical-align: top;\n",
              "    }\n",
              "\n",
              "    .dataframe thead th {\n",
              "        text-align: right;\n",
              "    }\n",
              "</style>\n",
              "<table border=\"1\" class=\"dataframe\">\n",
              "  <thead>\n",
              "    <tr style=\"text-align: right;\">\n",
              "      <th></th>\n",
              "      <th>ID</th>\n",
              "      <th>Location</th>\n",
              "      <th>sentiment</th>\n",
              "    </tr>\n",
              "  </thead>\n",
              "  <tbody>\n",
              "    <tr>\n",
              "      <th>0</th>\n",
              "      <td>17.0</td>\n",
              "      <td>ny</td>\n",
              "      <td>0.000000</td>\n",
              "    </tr>\n",
              "    <tr>\n",
              "      <th>1</th>\n",
              "      <td>76.0</td>\n",
              "      <td>mo</td>\n",
              "      <td>1.000000</td>\n",
              "    </tr>\n",
              "    <tr>\n",
              "      <th>2</th>\n",
              "      <td>291.0</td>\n",
              "      <td>mo</td>\n",
              "      <td>-0.166667</td>\n",
              "    </tr>\n",
              "    <tr>\n",
              "      <th>3</th>\n",
              "      <td>364.0</td>\n",
              "      <td>ma</td>\n",
              "      <td>0.000000</td>\n",
              "    </tr>\n",
              "    <tr>\n",
              "      <th>4</th>\n",
              "      <td>422.0</td>\n",
              "      <td>ca</td>\n",
              "      <td>-1.000000</td>\n",
              "    </tr>\n",
              "  </tbody>\n",
              "</table>\n",
              "</div>"
            ],
            "text/plain": [
              "      ID Location  sentiment\n",
              "0   17.0       ny   0.000000\n",
              "1   76.0       mo   1.000000\n",
              "2  291.0       mo  -0.166667\n",
              "3  364.0       ma   0.000000\n",
              "4  422.0       ca  -1.000000"
            ]
          },
          "metadata": {
            "tags": []
          },
          "execution_count": 89
        }
      ]
    },
    {
      "cell_type": "code",
      "metadata": {
        "id": "gnilttgczGHY",
        "outputId": "b1544a89-7cfe-4558-c494-2510458dc540",
        "colab": {
          "base_uri": "https://localhost:8080/",
          "height": 195
        }
      },
      "source": [
        "personalOpinion.drop(columns='ID', inplace= True)\n",
        "personalOpinion.head()"
      ],
      "execution_count": null,
      "outputs": [
        {
          "output_type": "execute_result",
          "data": {
            "text/html": [
              "<div>\n",
              "<style scoped>\n",
              "    .dataframe tbody tr th:only-of-type {\n",
              "        vertical-align: middle;\n",
              "    }\n",
              "\n",
              "    .dataframe tbody tr th {\n",
              "        vertical-align: top;\n",
              "    }\n",
              "\n",
              "    .dataframe thead th {\n",
              "        text-align: right;\n",
              "    }\n",
              "</style>\n",
              "<table border=\"1\" class=\"dataframe\">\n",
              "  <thead>\n",
              "    <tr style=\"text-align: right;\">\n",
              "      <th></th>\n",
              "      <th>Location</th>\n",
              "      <th>Final_Attitude</th>\n",
              "    </tr>\n",
              "  </thead>\n",
              "  <tbody>\n",
              "    <tr>\n",
              "      <th>0</th>\n",
              "      <td>ny</td>\n",
              "      <td>0</td>\n",
              "    </tr>\n",
              "    <tr>\n",
              "      <th>1</th>\n",
              "      <td>mo</td>\n",
              "      <td>1</td>\n",
              "    </tr>\n",
              "    <tr>\n",
              "      <th>2</th>\n",
              "      <td>mo</td>\n",
              "      <td>-1</td>\n",
              "    </tr>\n",
              "    <tr>\n",
              "      <th>3</th>\n",
              "      <td>ma</td>\n",
              "      <td>0</td>\n",
              "    </tr>\n",
              "    <tr>\n",
              "      <th>4</th>\n",
              "      <td>ca</td>\n",
              "      <td>-1</td>\n",
              "    </tr>\n",
              "  </tbody>\n",
              "</table>\n",
              "</div>"
            ],
            "text/plain": [
              "  Location  Final_Attitude\n",
              "0       ny               0\n",
              "1       mo               1\n",
              "2       mo              -1\n",
              "3       ma               0\n",
              "4       ca              -1"
            ]
          },
          "metadata": {
            "tags": []
          },
          "execution_count": 103
        }
      ]
    },
    {
      "cell_type": "code",
      "metadata": {
        "id": "nQUnN9JL_0t1"
      },
      "source": [
        "states = personalOpinion.groupby(by = 'Location', as_index= False).mean()\n",
        "sorted_states = states.sort_values(by = 'Final_Attitude')"
      ],
      "execution_count": null,
      "outputs": []
    },
    {
      "cell_type": "code",
      "metadata": {
        "id": "BhYPYwIE17VH",
        "outputId": "c13885b0-e881-4ca0-c4c5-260a9bd3aa8f",
        "colab": {
          "base_uri": "https://localhost:8080/",
          "height": 1000
        }
      },
      "source": [
        "sorted_states"
      ],
      "execution_count": null,
      "outputs": [
        {
          "output_type": "execute_result",
          "data": {
            "text/html": [
              "<div>\n",
              "<style scoped>\n",
              "    .dataframe tbody tr th:only-of-type {\n",
              "        vertical-align: middle;\n",
              "    }\n",
              "\n",
              "    .dataframe tbody tr th {\n",
              "        vertical-align: top;\n",
              "    }\n",
              "\n",
              "    .dataframe thead th {\n",
              "        text-align: right;\n",
              "    }\n",
              "</style>\n",
              "<table border=\"1\" class=\"dataframe\">\n",
              "  <thead>\n",
              "    <tr style=\"text-align: right;\">\n",
              "      <th></th>\n",
              "      <th>Location</th>\n",
              "      <th>Final_Attitude</th>\n",
              "    </tr>\n",
              "  </thead>\n",
              "  <tbody>\n",
              "    <tr>\n",
              "      <th>43</th>\n",
              "      <td>pr</td>\n",
              "      <td>0.035382</td>\n",
              "    </tr>\n",
              "    <tr>\n",
              "      <th>49</th>\n",
              "      <td>tx</td>\n",
              "      <td>0.038726</td>\n",
              "    </tr>\n",
              "    <tr>\n",
              "      <th>29</th>\n",
              "      <td>ms</td>\n",
              "      <td>0.040672</td>\n",
              "    </tr>\n",
              "    <tr>\n",
              "      <th>37</th>\n",
              "      <td>nv</td>\n",
              "      <td>0.049772</td>\n",
              "    </tr>\n",
              "    <tr>\n",
              "      <th>13</th>\n",
              "      <td>hi</td>\n",
              "      <td>0.050896</td>\n",
              "    </tr>\n",
              "    <tr>\n",
              "      <th>20</th>\n",
              "      <td>la</td>\n",
              "      <td>0.053811</td>\n",
              "    </tr>\n",
              "    <tr>\n",
              "      <th>57</th>\n",
              "      <td>wy</td>\n",
              "      <td>0.059075</td>\n",
              "    </tr>\n",
              "    <tr>\n",
              "      <th>4</th>\n",
              "      <td>az</td>\n",
              "      <td>0.067017</td>\n",
              "    </tr>\n",
              "    <tr>\n",
              "      <th>35</th>\n",
              "      <td>nj</td>\n",
              "      <td>0.069214</td>\n",
              "    </tr>\n",
              "    <tr>\n",
              "      <th>36</th>\n",
              "      <td>nm</td>\n",
              "      <td>0.074714</td>\n",
              "    </tr>\n",
              "    <tr>\n",
              "      <th>1</th>\n",
              "      <td>al</td>\n",
              "      <td>0.075330</td>\n",
              "    </tr>\n",
              "    <tr>\n",
              "      <th>39</th>\n",
              "      <td>oh</td>\n",
              "      <td>0.082886</td>\n",
              "    </tr>\n",
              "    <tr>\n",
              "      <th>11</th>\n",
              "      <td>ga</td>\n",
              "      <td>0.083151</td>\n",
              "    </tr>\n",
              "    <tr>\n",
              "      <th>9</th>\n",
              "      <td>fl</td>\n",
              "      <td>0.088057</td>\n",
              "    </tr>\n",
              "    <tr>\n",
              "      <th>5</th>\n",
              "      <td>ca</td>\n",
              "      <td>0.088950</td>\n",
              "    </tr>\n",
              "    <tr>\n",
              "      <th>44</th>\n",
              "      <td>pw</td>\n",
              "      <td>0.092726</td>\n",
              "    </tr>\n",
              "    <tr>\n",
              "      <th>17</th>\n",
              "      <td>in</td>\n",
              "      <td>0.094306</td>\n",
              "    </tr>\n",
              "    <tr>\n",
              "      <th>41</th>\n",
              "      <td>or</td>\n",
              "      <td>0.096316</td>\n",
              "    </tr>\n",
              "    <tr>\n",
              "      <th>16</th>\n",
              "      <td>il</td>\n",
              "      <td>0.096540</td>\n",
              "    </tr>\n",
              "    <tr>\n",
              "      <th>0</th>\n",
              "      <td>ak</td>\n",
              "      <td>0.097952</td>\n",
              "    </tr>\n",
              "    <tr>\n",
              "      <th>47</th>\n",
              "      <td>sd</td>\n",
              "      <td>0.100963</td>\n",
              "    </tr>\n",
              "    <tr>\n",
              "      <th>48</th>\n",
              "      <td>tn</td>\n",
              "      <td>0.101014</td>\n",
              "    </tr>\n",
              "    <tr>\n",
              "      <th>19</th>\n",
              "      <td>ky</td>\n",
              "      <td>0.102219</td>\n",
              "    </tr>\n",
              "    <tr>\n",
              "      <th>7</th>\n",
              "      <td>ct</td>\n",
              "      <td>0.103693</td>\n",
              "    </tr>\n",
              "    <tr>\n",
              "      <th>42</th>\n",
              "      <td>pa</td>\n",
              "      <td>0.105066</td>\n",
              "    </tr>\n",
              "    <tr>\n",
              "      <th>38</th>\n",
              "      <td>ny</td>\n",
              "      <td>0.111645</td>\n",
              "    </tr>\n",
              "    <tr>\n",
              "      <th>40</th>\n",
              "      <td>ok</td>\n",
              "      <td>0.112173</td>\n",
              "    </tr>\n",
              "    <tr>\n",
              "      <th>56</th>\n",
              "      <td>wv</td>\n",
              "      <td>0.112749</td>\n",
              "    </tr>\n",
              "    <tr>\n",
              "      <th>18</th>\n",
              "      <td>ks</td>\n",
              "      <td>0.114459</td>\n",
              "    </tr>\n",
              "    <tr>\n",
              "      <th>27</th>\n",
              "      <td>mo</td>\n",
              "      <td>0.115025</td>\n",
              "    </tr>\n",
              "    <tr>\n",
              "      <th>8</th>\n",
              "      <td>de</td>\n",
              "      <td>0.115874</td>\n",
              "    </tr>\n",
              "    <tr>\n",
              "      <th>6</th>\n",
              "      <td>co</td>\n",
              "      <td>0.116755</td>\n",
              "    </tr>\n",
              "    <tr>\n",
              "      <th>55</th>\n",
              "      <td>wi</td>\n",
              "      <td>0.117168</td>\n",
              "    </tr>\n",
              "    <tr>\n",
              "      <th>54</th>\n",
              "      <td>wa</td>\n",
              "      <td>0.118630</td>\n",
              "    </tr>\n",
              "    <tr>\n",
              "      <th>23</th>\n",
              "      <td>me</td>\n",
              "      <td>0.125628</td>\n",
              "    </tr>\n",
              "    <tr>\n",
              "      <th>46</th>\n",
              "      <td>sc</td>\n",
              "      <td>0.128375</td>\n",
              "    </tr>\n",
              "    <tr>\n",
              "      <th>22</th>\n",
              "      <td>md</td>\n",
              "      <td>0.130017</td>\n",
              "    </tr>\n",
              "    <tr>\n",
              "      <th>30</th>\n",
              "      <td>mt</td>\n",
              "      <td>0.132253</td>\n",
              "    </tr>\n",
              "    <tr>\n",
              "      <th>31</th>\n",
              "      <td>nc</td>\n",
              "      <td>0.134191</td>\n",
              "    </tr>\n",
              "    <tr>\n",
              "      <th>2</th>\n",
              "      <td>ar</td>\n",
              "      <td>0.135441</td>\n",
              "    </tr>\n",
              "    <tr>\n",
              "      <th>14</th>\n",
              "      <td>ia</td>\n",
              "      <td>0.137943</td>\n",
              "    </tr>\n",
              "    <tr>\n",
              "      <th>26</th>\n",
              "      <td>mn</td>\n",
              "      <td>0.140621</td>\n",
              "    </tr>\n",
              "    <tr>\n",
              "      <th>50</th>\n",
              "      <td>ut</td>\n",
              "      <td>0.140988</td>\n",
              "    </tr>\n",
              "    <tr>\n",
              "      <th>21</th>\n",
              "      <td>ma</td>\n",
              "      <td>0.142055</td>\n",
              "    </tr>\n",
              "    <tr>\n",
              "      <th>52</th>\n",
              "      <td>vi</td>\n",
              "      <td>0.143192</td>\n",
              "    </tr>\n",
              "    <tr>\n",
              "      <th>15</th>\n",
              "      <td>id</td>\n",
              "      <td>0.145419</td>\n",
              "    </tr>\n",
              "    <tr>\n",
              "      <th>25</th>\n",
              "      <td>mi</td>\n",
              "      <td>0.147266</td>\n",
              "    </tr>\n",
              "    <tr>\n",
              "      <th>51</th>\n",
              "      <td>va</td>\n",
              "      <td>0.147849</td>\n",
              "    </tr>\n",
              "    <tr>\n",
              "      <th>33</th>\n",
              "      <td>ne</td>\n",
              "      <td>0.150201</td>\n",
              "    </tr>\n",
              "    <tr>\n",
              "      <th>53</th>\n",
              "      <td>vt</td>\n",
              "      <td>0.157135</td>\n",
              "    </tr>\n",
              "    <tr>\n",
              "      <th>12</th>\n",
              "      <td>gu</td>\n",
              "      <td>0.158608</td>\n",
              "    </tr>\n",
              "    <tr>\n",
              "      <th>3</th>\n",
              "      <td>as</td>\n",
              "      <td>0.165986</td>\n",
              "    </tr>\n",
              "    <tr>\n",
              "      <th>34</th>\n",
              "      <td>nh</td>\n",
              "      <td>0.167299</td>\n",
              "    </tr>\n",
              "    <tr>\n",
              "      <th>32</th>\n",
              "      <td>nd</td>\n",
              "      <td>0.171936</td>\n",
              "    </tr>\n",
              "    <tr>\n",
              "      <th>45</th>\n",
              "      <td>ri</td>\n",
              "      <td>0.194213</td>\n",
              "    </tr>\n",
              "    <tr>\n",
              "      <th>10</th>\n",
              "      <td>fm</td>\n",
              "      <td>0.209877</td>\n",
              "    </tr>\n",
              "    <tr>\n",
              "      <th>28</th>\n",
              "      <td>mp</td>\n",
              "      <td>0.305028</td>\n",
              "    </tr>\n",
              "    <tr>\n",
              "      <th>24</th>\n",
              "      <td>mh</td>\n",
              "      <td>0.319444</td>\n",
              "    </tr>\n",
              "  </tbody>\n",
              "</table>\n",
              "</div>"
            ],
            "text/plain": [
              "   Location  Final_Attitude\n",
              "43       pr        0.035382\n",
              "49       tx        0.038726\n",
              "29       ms        0.040672\n",
              "37       nv        0.049772\n",
              "13       hi        0.050896\n",
              "20       la        0.053811\n",
              "57       wy        0.059075\n",
              "4        az        0.067017\n",
              "35       nj        0.069214\n",
              "36       nm        0.074714\n",
              "1        al        0.075330\n",
              "39       oh        0.082886\n",
              "11       ga        0.083151\n",
              "9        fl        0.088057\n",
              "5        ca        0.088950\n",
              "44       pw        0.092726\n",
              "17       in        0.094306\n",
              "41       or        0.096316\n",
              "16       il        0.096540\n",
              "0        ak        0.097952\n",
              "47       sd        0.100963\n",
              "48       tn        0.101014\n",
              "19       ky        0.102219\n",
              "7        ct        0.103693\n",
              "42       pa        0.105066\n",
              "38       ny        0.111645\n",
              "40       ok        0.112173\n",
              "56       wv        0.112749\n",
              "18       ks        0.114459\n",
              "27       mo        0.115025\n",
              "8        de        0.115874\n",
              "6        co        0.116755\n",
              "55       wi        0.117168\n",
              "54       wa        0.118630\n",
              "23       me        0.125628\n",
              "46       sc        0.128375\n",
              "22       md        0.130017\n",
              "30       mt        0.132253\n",
              "31       nc        0.134191\n",
              "2        ar        0.135441\n",
              "14       ia        0.137943\n",
              "26       mn        0.140621\n",
              "50       ut        0.140988\n",
              "21       ma        0.142055\n",
              "52       vi        0.143192\n",
              "15       id        0.145419\n",
              "25       mi        0.147266\n",
              "51       va        0.147849\n",
              "33       ne        0.150201\n",
              "53       vt        0.157135\n",
              "12       gu        0.158608\n",
              "3        as        0.165986\n",
              "34       nh        0.167299\n",
              "32       nd        0.171936\n",
              "45       ri        0.194213\n",
              "10       fm        0.209877\n",
              "28       mp        0.305028\n",
              "24       mh        0.319444"
            ]
          },
          "metadata": {
            "tags": []
          },
          "execution_count": 112
        }
      ]
    },
    {
      "cell_type": "markdown",
      "metadata": {
        "id": "GybSzqxIAEjy"
      },
      "source": [
        "best: ri> north Dakota > new hampshire > vermont > Nebraska > Virginia\n",
        "\n",
        "worst: texas > Mississippi > Nevada > Hawaii > Los Angeles\n",
        "\n",
        "mh is marshial island, not a state. mp is an island fm is an island as is an island"
      ]
    },
    {
      "cell_type": "markdown",
      "metadata": {
        "id": "SZNN2nxaAPZV"
      },
      "source": [
        "## Clustering Analysis"
      ]
    },
    {
      "cell_type": "markdown",
      "metadata": {
        "id": "zmC9jVGFAY6f"
      },
      "source": [
        "Use cleaned dataset"
      ]
    },
    {
      "cell_type": "code",
      "metadata": {
        "id": "NB3S0HmQAa0C"
      },
      "source": [
        "from sklearn.feature_extraction.text import TfidfVectorizer\n",
        "\n",
        "# vectorize the text\n",
        "Tweets= df['Processed_Tweet'].tolist()\n",
        "vectorizer = TfidfVectorizer(ngram_range=(1,2), min_df=50) # ADD bi-grams\n",
        "X = vectorizer.fit_transform(Tweets)\n",
        "print('Model fit')"
      ],
      "execution_count": null,
      "outputs": []
    },
    {
      "cell_type": "code",
      "metadata": {
        "id": "yvWAkxu5af_m",
        "outputId": "b1d259f2-2929-4342-9fb6-2bc28fa32b33",
        "colab": {
          "base_uri": "https://localhost:8080/",
          "height": 834
        }
      },
      "source": [
        "#determine the optimal number of clusters\n",
        "\n",
        "sse = []\n",
        "list_k = list(range(1, 11))\n",
        "\n",
        "for k in list_k:\n",
        "    km = MiniBatchKMeans(n_clusters=k, batch_size=200, random_state=3)\n",
        "    km.fit(X)\n",
        "    sse.append(km.inertia_)\n",
        "\n",
        "# Plot sse against k\n",
        "plt.figure(figsize=(14, 14))\n",
        "plt.plot(list_k, sse, '-o')\n",
        "plt.xlabel(r'Number of clusters *k*')\n",
        "plt.ylabel('Sum of squared distance')\n",
        "plt.show()"
      ],
      "execution_count": null,
      "outputs": [
        {
          "output_type": "display_data",
          "data": {
            "image/png": "[encoded data removed]",
            "text/plain": [
              "<Figure size 1008x1008 with 1 Axes>"
            ]
          },
          "metadata": {
            "tags": [],
            "needs_background": "light"
          }
        }
      ]
    },
    {
      "cell_type": "markdown",
      "metadata": {
        "id": "GHNpKMzMAmFW"
      },
      "source": [
        "According to the elbow technique the optimal number of clusters is 6"
      ]
    },
    {
      "cell_type": "code",
      "metadata": {
        "id": "3WHIrACIAqNc"
      },
      "source": [
        "# cluster the document using KMeans\n",
        "\n",
        "# step 1 - import the model\n",
        "from sklearn.cluster import KMeans, MiniBatchKMeans\n",
        "\n",
        "# step 2 - instantiate the model\n",
        "km = MiniBatchKMeans(n_clusters=6, batch_size=200, random_state=3)\n",
        "\n",
        "# step 3 - fit the model with data\n",
        "km.fit(X)\n",
        "\n",
        "# step 4 - predict the cluster of each section_title\n",
        "df1['clusters'] = km.predict(X)"
      ],
      "execution_count": null,
      "outputs": []
    },
    {
      "cell_type": "code",
      "metadata": {
        "id": "qRPi7L9HA1ov"
      },
      "source": [
        ""
      ],
      "execution_count": null,
      "outputs": []
    },
    {
      "cell_type": "code",
      "metadata": {
        "id": "GCpkOABHbVls",
        "outputId": "18dd064b-5683-4f1e-ef95-a591658a2a24",
        "colab": {
          "base_uri": "https://localhost:8080/",
          "height": 1000
        }
      },
      "source": [
        "#print clusters\n",
        "def review_clusters(df1, n_clusters):\n",
        "    for cl_num in range(n_clusters):\n",
        "        print(cl_num)\n",
        "        print(df1[df1.clusters == cl_num]['Processed_Tweet'].values[0:25])\n",
        "        print()\n",
        "\n",
        "review_clusters(df1, n_clusters=6)"
      ],
      "execution_count": null,
      "outputs": [
        {
          "output_type": "stream",
          "text": [
            "0\n",
            "['# howtoend_coronapandemiconly saint rampal ji maharaj save world terrible disease like corona philosophy'\n",
            " 'niggas move like covid real thing anymore'\n",
            " 'chromatica report single case covid-19 . true leadership look like .'\n",
            " 'genovia report single case covid-19 . true leadership look like .'\n",
            " 'joe like corona ur sexy ahaha lemme sniff hair'\n",
            " 'discover cure corona , need cure 😷 : \" like like ; like like \" .'\n",
            " 'right like “ trust china number ! ! ! ” totally correct well argument …'\n",
            " 'outbreak corona have u see like “ sick 😷 need ur prayer “'\n",
            " 'irritate ? ? like find funny . .'\n",
            " \"india fight corona!cows pee & amp ; medium group criminal modi's!so govt like rem …\"\n",
            " 'predatory cult lead waste human flesh look like . people like thank god atheist .'\n",
            " 'raab like rabbit headlight . starmer cool&amp;calm pull piece # test # carehomes # coronavirus # pmqs'\n",
            " 'like formula movie . fundos , gun , rogue general throw screw childhood corrupt …'\n",
            " ', inside govts & amp ; company , say ‘ ! ’ people safe content link covid19 . , like : 4 year ?'\n",
            " 'virus great career . like genuinely look forward cardi corona talk'\n",
            " 'trump totally fuck e.p.a . ! dump toxic waste property own trump cump . like expire monsanto roundup extend control herbicide trump golfcouse putt green .'\n",
            " 'bad feel like happen weekend . 🙄 🤦 🏻\\u200d ♀ ️'\n",
            " 'like individual action will save climate crisis , individual action will save coronavi …'\n",
            " 'corona day 3 : feel like sunday ...'\n",
            " 'saint dr .   ji teach pranayama meditation highly effective fight virus like \" cor …'\n",
            " '5 g real reason covid-19 corona virus ?    sure sound like !    🙀 🙀 🙀'\n",
            " 'op - ed : john cho : coronavirus remind asian americans like belong conditional   ('\n",
            " 'eroda report single case covid-19 . true leadership look like .'\n",
            " 'wonder innocent people choose work super - spreader event like able pay thei …'\n",
            " 'coronavirus basic general type virus crown - like spike exterior , ar …']\n",
            "\n",
            "1\n",
            "['bet tyrannical dem governor end covid stay home order citizen require wear “ …'\n",
            " 'try .. editorial leftist editorial board convince .   address obvious financial benefit count   covid death hospital .'\n",
            " 'careful . crazy nancy total disaster , usa communist country ! ht …'\n",
            " 'fuck mitch , putin puppet !   make donation   sure retire !'\n",
            " 'joe biden choose defend china day credibly accuse try hack company try …'\n",
            " 'hear lot minister protect vulnerablethat include homeless & amp ; rough sleepersth …'\n",
            " 'think . desciphering excess death covid . case . grant people dye suicide , cancel operation , cancel chemo , people go a&amp;e bear excess .'\n",
            " 'u expect charge professional fee ! u people 100 million dollar ? u chop finish 🤦 \\u200d ♂ ️'\n",
            " 'new video series !   human right .'\n",
            " 'strongly condemn kind prejudice & amp ; appeal fellow indians:-let allow panic & amp ; fear provoke b …'\n",
            " 'guy 😭 😷 social distance / quarantine period , # bigfish close untill notice , well …'\n",
            " 'bore bore guy ! get job definitely worth ! bat 11 let …'\n",
            " 'think mum whatsapp groupchat .'\n",
            " 'live footage corona shutdown day 12 . work home , find overwilliammorrissed .'\n",
            " 'upset wellness grifters take advantage corona sell dangerous garbageyou thank th …'\n",
            " 'start spread word god late phase corona remember share testimony …'\n",
            " 'cbs exec # 1 : “ hey , run content covid stuff , fill time?”cbs exec # 2 : “ get ! let run movie boat long vhs tapes!”cbs exec # 1 : “ brilliant ! ”'\n",
            " 'run nasty person state health director town !'\n",
            " ', give begin , entire yearly salary , $ 400,000 $ 450,000 , government . …'\n",
            " 'minor girl delhi come pray ajmer dagrah lockdownshe meet asgar ali , auto driver , lure & amp ; take whe …'\n",
            " 'mfs want nba come ...'\n",
            " 'hospital far northern california spend couple day , doctor report see …'\n",
            " 'middle pandemic , republican party sue state make easy safe vote.this tell y …'\n",
            " 'urine pool water see space' 'bro go to ruth langmore beat asse']\n",
            "\n",
            "2\n",
            "['white house block travel brazil non - threaten covid-19 ? assure overreaction hang kiss .'\n",
            " '2nd wave covid-19 stretch outfit lay bed . ready .'\n",
            " 'byproduct covid-19 test moral compass america . conclude 1/3 pop …'\n",
            " 'wrong covid-19 outbreak toronto shelter system . date , large shelter outbreak nort …'\n",
            " 'recognize privilege refer covid-19 “ bless disguise . ”'\n",
            " 'tell march # endlockdown \" cdc new \" well estimate \" imply covid-19 infection fatality rate low number horrify projection shape government response epidemic . \"  '\n",
            " 'gosh , get wrong . michigan beat suspect move nurse home diagnose covid-19 , say h …'\n",
            " 'far hospital lack basic infrastructure , brazil indigenous people dye alarm rate covid-19 …'\n",
            " 'want point anifa innovation covid-19 induce . lot brand come …'\n",
            " 'pretty impressive , . hope conway learn solution die april covid-19 .'\n",
            " '. investigate china covid-19 . discover learn new cnn special report – china deadly secret . t …'\n",
            " 'new covid 19 song parody # coronaupdate # coronavirus # covidiot # quarentinelife ( spell quarantine people ! ) # quarantinelife'\n",
            " '# indiafightscoronastrengthening healthcare infrastructure tackle corona , covid-19 hospital preparation 17 state . come .   namo app'\n",
            " 'ycso news : york county sheriff office employee test positive covid-19 corona virus .   unclear …'\n",
            " 'total cost covid-19 treatment : $ 34,927.43that cost uninsured.this protect …'\n",
            " 'dad test positive covid-19 . stay home safe , send positivity love …'\n",
            " 'list state covid-19 case'\n",
            " 'deborah birx outline # potus clearly able synthesize / process understand covid-19 information give t …'\n",
            " 'tech tyranny : twitter suspend account youtube remove video biotech company create covid-19 treatment usin …'\n",
            " 'government covid-19 portal report 192 additional recovery , take pakistan tally 3,425 .'\n",
            " 'explain flu death go 80k americans 2018 24k flu season ? gee . maybe classify covid-19 . 🤔 🤔 🤔'\n",
            " 'neath port talbot cvs & amp ; fareshare cymru support food bank covid-19  '\n",
            " '  global # covid-19 # communication taskforce offer free support service communication professional …'\n",
            " 'thank reach – covid-19 , currently operate limit support team . normal review process experience delay . learn :'\n",
            " 'black people time likely die covid-19 , ons find']\n",
            "\n",
            "3\n",
            "['son admit child hospital . corona virus . good thought appreciate .'\n",
            " 'corona shit live well life'\n",
            " 'point come messiah , pleague locust , outbreak corona virus people reluctant seek lord enter eternity . # featuringapocalypse'\n",
            " 'want stop spread corona , break cycle infection.some people misconception …'\n",
            " 'mum phd corona virus whatsapp university' ': try corona time'\n",
            " 'cate people employ , u decide home early.the way fight corona lockdown.simple.one pt heal indicate .as tweet virus spreading.as long people move virus spread'\n",
            " 'cdc announce corona spread instagram story challenge :-/'\n",
            " 'buy 80 12 pack corona 1200 $'\n",
            " 'look answer ? wonder nation struggle right combat corona virus …'\n",
            " 'wealthy londoner ignore corona virus travel warn & amp ; head scottish 2 home bolthole'\n",
            " 'corona virus america'\n",
            " 'asians attack corona virus fear irl online , stand right . turn de …'\n",
            " 'man piss stop corona' 'corona huh ?'\n",
            " 'thxsomuch ! 58   & amp ;   bulldog share corona week . 👏 💜 🔥'\n",
            " 'corona virus start africa , leader fly family overseas leave die.god good waa'\n",
            " 'believe , let 2 time . are.no corona paies . illegal …'\n",
            " 'corona virus chill soon need chiropractor'\n",
            " 'corona , officially day week1 . yesterday 2 . today3 . tomorrow'\n",
            " 'restaurant corona virus system weird af' 'corona update word'\n",
            " 'bet anti - vaxxers real quiet corona vaccine come'\n",
            " 'damn corona go viral huh ?' 'money donate corona research']\n",
            "\n",
            "4\n",
            "['accord ons , 40,000 uk die coronavirus . double figur …'\n",
            " 'nuclear level piss - bs!dying wwii veteran deny family visitation coronavirus'\n",
            " 'senator launch coronavirus money - trail investigation — doj involve – national insider'\n",
            " '$ 5,000 toy donation brighten coronavirus quarantine dozen portland foster child'\n",
            " \"theory push trump coronavirus begin laboratory wuhan ' pure fabrication , ' accord lab director\"\n",
            " \"betty white , 98 , ' ' despite coronavirus pandemic\"\n",
            " 'facebook commercial feature post inspirational coronavirus group little uplift …'\n",
            " 'mean get wear mask ... 🤷 🏽\\u200d ♂ ️ # coronavirus'\n",
            " 'ohio judge deem state coronavirus lockdown illegal  '\n",
            " 'cdc : 38 % attendee arkansas church week contract coronavirus'\n",
            " 'dealmaker donald trump overly - expensive deal company buy supply fight coronavirus'\n",
            " 'democrat elizabeth warren rise vp contender coronavirus reshuffle 2020 race   ht …'\n",
            " '2008 , tell “ politicize ” crash . end decade austerity . coronavirus crisis …'\n",
            " 'figliuzzi : coronavirus death mount , trump handle intelligence warning look wrong wrong \\u2066 \\u2066'\n",
            " 'brutally honest look future high education post - coronavirus'\n",
            " 'tom brady tell leave florida park close coronavirus : report'\n",
            " '\\U0001f92f sub unreal mami 😍 fun play . # onlyfans # onlyfansgirl # onlyfansleak # onlyfansbabe # onlyfanspromo # sellingudes # sellingcontent # buyingcontent # coronavirus'\n",
            " '🔥 ga , tn announce plan reopen business - wind # coronavirus stay - - home orders. 🔥 yay ! look forward ot …'\n",
            " 'coronavirus kill mexico mexico die day'\n",
            " 'inject body ingest kill coronavirus . substance wi …'\n",
            " 'resistance coronavirus lockdowns ?'\n",
            " 'coronavirus ruin california house plan urban density - los angeles time'\n",
            " 'pay tribute 100 frontline staff nhs social care die fight coronavirus .'\n",
            " '4 trader associate delhi azadpur sabzi mandi test positive # coronavirus . commute fro …'\n",
            " 'greta thunberg give $ 100,000 prize money un children&amp;apos;s charity help coronavirus    battle']\n",
            "\n",
            "5\n",
            "['health kit supply # covid19 + have pt & amp ; home contact # tnhealth novel idea , launch hon’ble'\n",
            " 'lazy morbidly obese wife cheat lie pussy grab pos beak hard day golf 100,000americans die # covid19 # trumpliespeopledie'\n",
            " 'stick comedy.facts : n95 ( mask ) meansn = non oil resistant , 95 = filter 95 % microbe .3 largercovid19 size : .06-.14 micronsmeaning , mask filter 95 % virus large covid19 , clinically effective filter microbe covid19 size'\n",
            " '3 day weekend.it nice outside.that mean # covid19 go away.wash hands.stay 6 foot apart . …'\n",
            " 'covid19'\n",
            " ',   say want # illinois citizen cross state line # covid19 \\U0001f9a0 , send constructio …'\n",
            " 'local : \" great ! \" -   \" , ? \" - \\u3000  # coronavirus # covid19 # sarscov2 # news # コロナウイルス'\n",
            " '“ trump turn america — denial , delay deception responsible 84,000 100,000 # covid19 de …'\n",
            " 'ucp mla   evict # covid19 pandemic . stuff .'\n",
            " 'new norm spring 2020 go summer 2020 . stay safe healthy . # covid19 # mask # sanitizer # live # love'\n",
            " 'wonder cost actually # covid19 ? talk woman uninsured get virus , …'\n",
            " 'country make sure hospital fully equip # covid19 , nurse home leave . hope ne …'\n",
            " '# covid19 magnify exist inequalitiesthe correlation woman unvalued & amp ; unpaid care work , unde …'\n",
            " 'prevent # covid19 use thing . good prevent .'\n",
            " '# leyla plead video young sibling distraught , home , desperately try care critically ill father , heart condition , fear life exposure # covid19'\n",
            " '# taiwan transparent , competent response # covid19 pandemic receive global recognition . consensus clear : th …'\n",
            " 'cbt news april 29 , 2020 : brian pasch dealer focus recovery   # coronavirus # covid19 # digitalmarketing'\n",
            " 'worry financial impact # covid19 child local community . read   …'\n",
            " 'vist # vallcarca.#covid19'\n",
            " 'organization subscribe collaborative tool digital signature solutions#cpoinnovation # covid19 # wfh # tweetchat'\n",
            " 'be / s mount washington dock winter port center harbor , nh . know cruise lake winnipesaukee summer covid19 restriction . # msmountwashington # mountwashington …'\n",
            " 'surge response team work 60 texas community weekend tackle # covid19 clusters.these effort help u …'\n",
            " 'raise hand wish president joe biden handle # covid19 crisis instead trump . 👋'\n",
            " 'thank # broadwayreliefproject   ingenuity help healthcare worker surgical gown need ! # covid19'\n",
            " 'safe sa covid19 sina francis baraan , mlq3 , edwin lacierda , sonny trillanes atbp . medical study show virus linger t …']\n",
            "\n"
          ],
          "name": "stdout"
        }
      ]
    },
    {
      "cell_type": "code",
      "metadata": {
        "id": "DAxxjdd-A6JE"
      },
      "source": [
        "import string\n",
        "punct = set(string.punctuation)\n",
        "\n",
        "#choose cluster to analyze\n",
        "raw_docs = df[df['clusters']==0].Processed_Tweet\n",
        "\n",
        "#get rid of punctuation\n",
        "raw_docs=''.join(ch for ch in raw_docs if ch not in punct)\n",
        "raw_docs=''.join(ch for ch in raw_docs if ch not in punct)\n",
        "raw_docs"
      ],
      "execution_count": null,
      "outputs": []
    },
    {
      "cell_type": "code",
      "metadata": {
        "id": "bseflIjNBHxF"
      },
      "source": [
        "raw_docs = raw_docs.split() "
      ],
      "execution_count": null,
      "outputs": []
    },
    {
      "cell_type": "code",
      "metadata": {
        "id": "y6k_NiTF6aSR",
        "outputId": "126d976a-c344-4517-fb55-b6f902d1f747",
        "colab": {
          "base_uri": "https://localhost:8080/",
          "height": 1000
        }
      },
      "source": [
        "from collections import Counter \n",
        "\n",
        "list=Counter(raw_docs).most_common(50)\n",
        "pd.DataFrame(list)"
      ],
      "execution_count": null,
      "outputs": [
        {
          "output_type": "execute_result",
          "data": {
            "text/html": [
              "<div>\n",
              "<style scoped>\n",
              "    .dataframe tbody tr th:only-of-type {\n",
              "        vertical-align: middle;\n",
              "    }\n",
              "\n",
              "    .dataframe tbody tr th {\n",
              "        vertical-align: top;\n",
              "    }\n",
              "\n",
              "    .dataframe thead th {\n",
              "        text-align: right;\n",
              "    }\n",
              "</style>\n",
              "<table border=\"1\" class=\"dataframe\">\n",
              "  <thead>\n",
              "    <tr style=\"text-align: right;\">\n",
              "      <th></th>\n",
              "      <th>0</th>\n",
              "      <th>1</th>\n",
              "    </tr>\n",
              "  </thead>\n",
              "  <tbody>\n",
              "    <tr>\n",
              "      <th>0</th>\n",
              "      <td>covid</td>\n",
              "      <td>424761</td>\n",
              "    </tr>\n",
              "    <tr>\n",
              "      <th>1</th>\n",
              "      <td>corona</td>\n",
              "      <td>311860</td>\n",
              "    </tr>\n",
              "    <tr>\n",
              "      <th>2</th>\n",
              "      <td>people</td>\n",
              "      <td>256330</td>\n",
              "    </tr>\n",
              "    <tr>\n",
              "      <th>3</th>\n",
              "      <td>amp</td>\n",
              "      <td>225746</td>\n",
              "    </tr>\n",
              "    <tr>\n",
              "      <th>4</th>\n",
              "      <td>time</td>\n",
              "      <td>141986</td>\n",
              "    </tr>\n",
              "    <tr>\n",
              "      <th>5</th>\n",
              "      <td>need</td>\n",
              "      <td>133317</td>\n",
              "    </tr>\n",
              "    <tr>\n",
              "      <th>6</th>\n",
              "      <td>work</td>\n",
              "      <td>131424</td>\n",
              "    </tr>\n",
              "    <tr>\n",
              "      <th>7</th>\n",
              "      <td>go</td>\n",
              "      <td>126833</td>\n",
              "    </tr>\n",
              "    <tr>\n",
              "      <th>8</th>\n",
              "      <td>say</td>\n",
              "      <td>117134</td>\n",
              "    </tr>\n",
              "    <tr>\n",
              "      <th>9</th>\n",
              "      <td>death</td>\n",
              "      <td>115985</td>\n",
              "    </tr>\n",
              "    <tr>\n",
              "      <th>10</th>\n",
              "      <td>test</td>\n",
              "      <td>115967</td>\n",
              "    </tr>\n",
              "    <tr>\n",
              "      <th>11</th>\n",
              "      <td>know</td>\n",
              "      <td>113086</td>\n",
              "    </tr>\n",
              "    <tr>\n",
              "      <th>12</th>\n",
              "      <td>trump</td>\n",
              "      <td>109040</td>\n",
              "    </tr>\n",
              "    <tr>\n",
              "      <th>13</th>\n",
              "      <td>day</td>\n",
              "      <td>108801</td>\n",
              "    </tr>\n",
              "    <tr>\n",
              "      <th>14</th>\n",
              "      <td>“</td>\n",
              "      <td>107817</td>\n",
              "    </tr>\n",
              "    <tr>\n",
              "      <th>15</th>\n",
              "      <td>new</td>\n",
              "      <td>107634</td>\n",
              "    </tr>\n",
              "    <tr>\n",
              "      <th>16</th>\n",
              "      <td>home</td>\n",
              "      <td>105575</td>\n",
              "    </tr>\n",
              "    <tr>\n",
              "      <th>17</th>\n",
              "      <td>…</td>\n",
              "      <td>104225</td>\n",
              "    </tr>\n",
              "    <tr>\n",
              "      <th>18</th>\n",
              "      <td>get</td>\n",
              "      <td>99167</td>\n",
              "    </tr>\n",
              "    <tr>\n",
              "      <th>19</th>\n",
              "      <td>think</td>\n",
              "      <td>98044</td>\n",
              "    </tr>\n",
              "    <tr>\n",
              "      <th>20</th>\n",
              "      <td>state</td>\n",
              "      <td>95010</td>\n",
              "    </tr>\n",
              "    <tr>\n",
              "      <th>21</th>\n",
              "      <td>help</td>\n",
              "      <td>91606</td>\n",
              "    </tr>\n",
              "    <tr>\n",
              "      <th>22</th>\n",
              "      <td>come</td>\n",
              "      <td>85791</td>\n",
              "    </tr>\n",
              "    <tr>\n",
              "      <th>23</th>\n",
              "      <td>”</td>\n",
              "      <td>85456</td>\n",
              "    </tr>\n",
              "    <tr>\n",
              "      <th>24</th>\n",
              "      <td>case</td>\n",
              "      <td>83072</td>\n",
              "    </tr>\n",
              "    <tr>\n",
              "      <th>25</th>\n",
              "      <td>want</td>\n",
              "      <td>82290</td>\n",
              "    </tr>\n",
              "    <tr>\n",
              "      <th>26</th>\n",
              "      <td>live</td>\n",
              "      <td>80937</td>\n",
              "    </tr>\n",
              "    <tr>\n",
              "      <th>27</th>\n",
              "      <td>health</td>\n",
              "      <td>80664</td>\n",
              "    </tr>\n",
              "    <tr>\n",
              "      <th>28</th>\n",
              "      <td>pandemic</td>\n",
              "      <td>74779</td>\n",
              "    </tr>\n",
              "    <tr>\n",
              "      <th>29</th>\n",
              "      <td>right</td>\n",
              "      <td>73133</td>\n",
              "    </tr>\n",
              "    <tr>\n",
              "      <th>30</th>\n",
              "      <td>year</td>\n",
              "      <td>69464</td>\n",
              "    </tr>\n",
              "    <tr>\n",
              "      <th>31</th>\n",
              "      <td>today</td>\n",
              "      <td>68743</td>\n",
              "    </tr>\n",
              "    <tr>\n",
              "      <th>32</th>\n",
              "      <td>care</td>\n",
              "      <td>67261</td>\n",
              "    </tr>\n",
              "    <tr>\n",
              "      <th>33</th>\n",
              "      <td>good</td>\n",
              "      <td>67213</td>\n",
              "    </tr>\n",
              "    <tr>\n",
              "      <th>34</th>\n",
              "      <td>government</td>\n",
              "      <td>67043</td>\n",
              "    </tr>\n",
              "    <tr>\n",
              "      <th>35</th>\n",
              "      <td>country</td>\n",
              "      <td>66736</td>\n",
              "    </tr>\n",
              "    <tr>\n",
              "      <th>36</th>\n",
              "      <td>week</td>\n",
              "      <td>66142</td>\n",
              "    </tr>\n",
              "    <tr>\n",
              "      <th>37</th>\n",
              "      <td>world</td>\n",
              "      <td>65610</td>\n",
              "    </tr>\n",
              "    <tr>\n",
              "      <th>38</th>\n",
              "      <td>stay</td>\n",
              "      <td>64794</td>\n",
              "    </tr>\n",
              "    <tr>\n",
              "      <th>39</th>\n",
              "      <td>well</td>\n",
              "      <td>63510</td>\n",
              "    </tr>\n",
              "    <tr>\n",
              "      <th>40</th>\n",
              "      <td>way</td>\n",
              "      <td>62557</td>\n",
              "    </tr>\n",
              "    <tr>\n",
              "      <th>41</th>\n",
              "      <td>thing</td>\n",
              "      <td>62541</td>\n",
              "    </tr>\n",
              "    <tr>\n",
              "      <th>42</th>\n",
              "      <td>mask</td>\n",
              "      <td>61612</td>\n",
              "    </tr>\n",
              "    <tr>\n",
              "      <th>43</th>\n",
              "      <td>2</td>\n",
              "      <td>60384</td>\n",
              "    </tr>\n",
              "    <tr>\n",
              "      <th>44</th>\n",
              "      <td>let</td>\n",
              "      <td>60345</td>\n",
              "    </tr>\n",
              "    <tr>\n",
              "      <th>45</th>\n",
              "      <td>virus</td>\n",
              "      <td>58907</td>\n",
              "    </tr>\n",
              "    <tr>\n",
              "      <th>46</th>\n",
              "      <td>die</td>\n",
              "      <td>58448</td>\n",
              "    </tr>\n",
              "    <tr>\n",
              "      <th>47</th>\n",
              "      <td>thank</td>\n",
              "      <td>57859</td>\n",
              "    </tr>\n",
              "    <tr>\n",
              "      <th>48</th>\n",
              "      <td>take</td>\n",
              "      <td>57446</td>\n",
              "    </tr>\n",
              "    <tr>\n",
              "      <th>49</th>\n",
              "      <td>tell</td>\n",
              "      <td>57296</td>\n",
              "    </tr>\n",
              "  </tbody>\n",
              "</table>\n",
              "</div>"
            ],
            "text/plain": [
              "             0       1\n",
              "0        covid  424761\n",
              "1       corona  311860\n",
              "2       people  256330\n",
              "3          amp  225746\n",
              "4         time  141986\n",
              "5         need  133317\n",
              "6         work  131424\n",
              "7           go  126833\n",
              "8          say  117134\n",
              "9        death  115985\n",
              "10        test  115967\n",
              "11        know  113086\n",
              "12       trump  109040\n",
              "13         day  108801\n",
              "14           “  107817\n",
              "15         new  107634\n",
              "16        home  105575\n",
              "17           …  104225\n",
              "18         get   99167\n",
              "19       think   98044\n",
              "20       state   95010\n",
              "21        help   91606\n",
              "22        come   85791\n",
              "23           ”   85456\n",
              "24        case   83072\n",
              "25        want   82290\n",
              "26        live   80937\n",
              "27      health   80664\n",
              "28    pandemic   74779\n",
              "29       right   73133\n",
              "30        year   69464\n",
              "31       today   68743\n",
              "32        care   67261\n",
              "33        good   67213\n",
              "34  government   67043\n",
              "35     country   66736\n",
              "36        week   66142\n",
              "37       world   65610\n",
              "38        stay   64794\n",
              "39        well   63510\n",
              "40         way   62557\n",
              "41       thing   62541\n",
              "42        mask   61612\n",
              "43           2   60384\n",
              "44         let   60345\n",
              "45       virus   58907\n",
              "46         die   58448\n",
              "47       thank   57859\n",
              "48        take   57446\n",
              "49        tell   57296"
            ]
          },
          "metadata": {
            "tags": []
          },
          "execution_count": 16
        }
      ]
    },
    {
      "cell_type": "markdown",
      "metadata": {
        "id": "IfVeP-zYBYZ0"
      },
      "source": [
        "Repeat last 3 cells for each cluster"
      ]
    },
    {
      "cell_type": "markdown",
      "metadata": {
        "id": "GfryYmTyBhuc"
      },
      "source": [
        "Sentiment of each cluster"
      ]
    },
    {
      "cell_type": "code",
      "metadata": {
        "id": "TBP2JDNEBgs0"
      },
      "source": [
        "#load dataset with clusters first"
      ],
      "execution_count": null,
      "outputs": []
    },
    {
      "cell_type": "code",
      "metadata": {
        "id": "IcUxotbiQX_i"
      },
      "source": [
        "# create a function to pass our sentences\n",
        "def sentiment_analyzer_scores(sentence):\n",
        "    score = analyzer.polarity_scores(sentence)\n",
        "    return score"
      ],
      "execution_count": null,
      "outputs": []
    },
    {
      "cell_type": "code",
      "metadata": {
        "id": "C97QAPpEBnod"
      },
      "source": [
        "df['score'] = df['Processed_Tweet'].apply(lambda review: sentiment_analyzer_scores(review)['compound'])"
      ],
      "execution_count": null,
      "outputs": []
    },
    {
      "cell_type": "code",
      "metadata": {
        "id": "uAuAlINyB27b"
      },
      "source": [
        "#classify each tweet in very negative, negative, neutral, positive and very positive\n",
        "\n",
        "df['Sentiment'] = df['score'].apply(lambda c: 'very_pos' if c >=0.5 else ('pos' if c > 0.05 else ('neu' if c > -0.05 else ('neg' if c > -0.5 else 'very_neg'))))"
      ],
      "execution_count": null,
      "outputs": []
    },
    {
      "cell_type": "code",
      "metadata": {
        "id": "l1pmdH8aB-TE"
      },
      "source": [
        "#create dummies\n",
        "df=pd.get_dummies(df, columns=['Sentiment'])\n",
        "df"
      ],
      "execution_count": null,
      "outputs": []
    },
    {
      "cell_type": "code",
      "metadata": {
        "id": "j46Yt6OMCFTz"
      },
      "source": [
        "#aggregate by clusters\n",
        "\n",
        "clusters = df.groupby('clusters').agg({'score':'mean','Processed_Tweet':'count','Sentiment_very_pos':'mean','Sentiment_pos':'mean','Sentiment_neu':'mean', 'Sentiment_neg':'mean','Sentiment_very_neg':'mean'}).rename(columns={'score': 'mean_score','Processed_Tweet':'Number_of_Tweets','Sentiment_very_pos':'Percentage of very positive tweets','Sentiment_pos':'Percentage of positive tweets','Sentiment_neu':'Percentage of neutral tweets','Sentiment_neg':'Percentage of negative tweets','Sentiment_very_neg':'Percentage of very negative tweets' }).reset_index()\n"
      ],
      "execution_count": null,
      "outputs": []
    },
    {
      "cell_type": "code",
      "metadata": {
        "id": "RYda08_-d1SV",
        "outputId": "590ddbf0-6065-42c0-9675-e4a7db8469b1",
        "colab": {
          "base_uri": "https://localhost:8080/",
          "height": 242
        }
      },
      "source": [
        "clusters"
      ],
      "execution_count": null,
      "outputs": [
        {
          "output_type": "execute_result",
          "data": {
            "text/html": [
              "<div>\n",
              "<style scoped>\n",
              "    .dataframe tbody tr th:only-of-type {\n",
              "        vertical-align: middle;\n",
              "    }\n",
              "\n",
              "    .dataframe tbody tr th {\n",
              "        vertical-align: top;\n",
              "    }\n",
              "\n",
              "    .dataframe thead th {\n",
              "        text-align: right;\n",
              "    }\n",
              "</style>\n",
              "<table border=\"1\" class=\"dataframe\">\n",
              "  <thead>\n",
              "    <tr style=\"text-align: right;\">\n",
              "      <th></th>\n",
              "      <th>clusters</th>\n",
              "      <th>mean_score</th>\n",
              "      <th>Number_of_Tweets</th>\n",
              "      <th>Percentage of very positive tweets</th>\n",
              "      <th>Percentage of positive tweets</th>\n",
              "      <th>Percentage of neutral tweets</th>\n",
              "      <th>Percentage of negative tweets</th>\n",
              "      <th>Percentage of very negative tweets</th>\n",
              "    </tr>\n",
              "  </thead>\n",
              "  <tbody>\n",
              "    <tr>\n",
              "      <th>0</th>\n",
              "      <td>0</td>\n",
              "      <td>0.232116</td>\n",
              "      <td>261132</td>\n",
              "      <td>0.353572</td>\n",
              "      <td>0.335941</td>\n",
              "      <td>0.030268</td>\n",
              "      <td>0.151242</td>\n",
              "      <td>0.128977</td>\n",
              "    </tr>\n",
              "    <tr>\n",
              "      <th>1</th>\n",
              "      <td>1</td>\n",
              "      <td>0.034531</td>\n",
              "      <td>3173441</td>\n",
              "      <td>0.206412</td>\n",
              "      <td>0.206352</td>\n",
              "      <td>0.241596</td>\n",
              "      <td>0.161012</td>\n",
              "      <td>0.184628</td>\n",
              "    </tr>\n",
              "    <tr>\n",
              "      <th>2</th>\n",
              "      <td>2</td>\n",
              "      <td>0.007331</td>\n",
              "      <td>1075784</td>\n",
              "      <td>0.185103</td>\n",
              "      <td>0.201389</td>\n",
              "      <td>0.254902</td>\n",
              "      <td>0.164281</td>\n",
              "      <td>0.194325</td>\n",
              "    </tr>\n",
              "    <tr>\n",
              "      <th>3</th>\n",
              "      <td>3</td>\n",
              "      <td>-0.024512</td>\n",
              "      <td>932454</td>\n",
              "      <td>0.162353</td>\n",
              "      <td>0.187536</td>\n",
              "      <td>0.265861</td>\n",
              "      <td>0.174115</td>\n",
              "      <td>0.210135</td>\n",
              "    </tr>\n",
              "    <tr>\n",
              "      <th>4</th>\n",
              "      <td>4</td>\n",
              "      <td>-0.065677</td>\n",
              "      <td>933422</td>\n",
              "      <td>0.131251</td>\n",
              "      <td>0.188264</td>\n",
              "      <td>0.263778</td>\n",
              "      <td>0.192508</td>\n",
              "      <td>0.224199</td>\n",
              "    </tr>\n",
              "    <tr>\n",
              "      <th>5</th>\n",
              "      <td>5</td>\n",
              "      <td>0.065003</td>\n",
              "      <td>743329</td>\n",
              "      <td>0.227034</td>\n",
              "      <td>0.216300</td>\n",
              "      <td>0.233670</td>\n",
              "      <td>0.150329</td>\n",
              "      <td>0.172666</td>\n",
              "    </tr>\n",
              "  </tbody>\n",
              "</table>\n",
              "</div>"
            ],
            "text/plain": [
              "   clusters  ...  Percentage of very negative tweets\n",
              "0         0  ...                            0.128977\n",
              "1         1  ...                            0.184628\n",
              "2         2  ...                            0.194325\n",
              "3         3  ...                            0.210135\n",
              "4         4  ...                            0.224199\n",
              "5         5  ...                            0.172666\n",
              "\n",
              "[6 rows x 8 columns]"
            ]
          },
          "metadata": {
            "tags": []
          },
          "execution_count": 11
        }
      ]
    },
    {
      "cell_type": "markdown",
      "metadata": {
        "id": "leld-C4CCYb6"
      },
      "source": [
        "## Word Cloud"
      ]
    },
    {
      "cell_type": "code",
      "metadata": {
        "id": "HmMylflZJdTD"
      },
      "source": [
        "from wordcloud import WordCloud, STOPWORDS, ImageColorGenerator\n",
        "import matplotlib.pyplot as plt"
      ],
      "execution_count": null,
      "outputs": []
    },
    {
      "cell_type": "code",
      "metadata": {
        "id": "r3fO4YjQDI-L"
      },
      "source": [
        "\n",
        "\n",
        "df=pd.read_csv('/content/drive/My Drive/data/Drop_Retweets.csv')\n",
        "#take only\"\"Processed_Tweet\" Col\n",
        "df_tweet=df['Processed_Tweet']"
      ],
      "execution_count": null,
      "outputs": []
    },
    {
      "cell_type": "code",
      "metadata": {
        "id": "pBv_sCPADKdC"
      },
      "source": [
        "df_str = df_tweet.to_list()\n",
        "r_tweet = \" \".join(df_str)"
      ],
      "execution_count": null,
      "outputs": []
    },
    {
      "cell_type": "code",
      "metadata": {
        "id": "Uluir4u9DPCq"
      },
      "source": [
        "#writing tweets in string into empty text file\n",
        "text_file = open(\"tweets_string.txt\", \"w\")\n",
        "n = text_file.write(r_tweet)\n",
        "text_file.close()"
      ],
      "execution_count": null,
      "outputs": []
    },
    {
      "cell_type": "code",
      "metadata": {
        "id": "RySWKKYVHX5g",
        "outputId": "c3c4c956-1b68-435f-8f82-95be11042ed3",
        "colab": {
          "base_uri": "https://localhost:8080/",
          "height": 267
        }
      },
      "source": [
        "# Create a basic wordcloud\n",
        "print(f'Generating WordCloud across {len(r_tweet)} characters.')\n",
        "wordcloud = WordCloud(background_color=\"white\", collocations=False, max_words=100,max_font_size=80).generate(r_tweet)\n",
        "print('WordCloud generated and displaying...')\n",
        "# Display the generated image:\n",
        "plt.imshow(wordcloud, interpolation='bilinear')\n",
        "plt.axis(\"off\")\n",
        "plt.show()"
      ],
      "execution_count": null,
      "outputs": [
        {
          "output_type": "stream",
          "text": [
            "Generating WordCloud across 611165721 characters.\n",
            "WordCloud generated and displaying...\n"
          ],
          "name": "stdout"
        },
        {
          "output_type": "display_data",
          "data": {
            "image/png": "[encoded data removed]",
            "text/plain": [
              "<Figure size 432x288 with 1 Axes>"
            ]
          },
          "metadata": {
            "tags": [],
            "needs_background": "light"
          }
        },
        {
          "output_type": "stream",
          "text": [
            "CPU times: user 2min 6s, sys: 5.71 s, total: 2min 11s\n",
            "Wall time: 2min 11s\n"
          ],
          "name": "stdout"
        }
      ]
    }
  ]
}